{
 "cells": [
  {
   "cell_type": "code",
   "execution_count": 1,
   "metadata": {},
   "outputs": [
    {
     "name": "stdout",
     "output_type": "stream",
     "text": [
      "Requirement already satisfied: emails in /data/data/ru.iiec.pydroid3/files/aarch64-linux-android/lib/python3.8/site-packages (0.6)\n",
      "Requirement already satisfied: python-dateutil in /data/data/ru.iiec.pydroid3/files/aarch64-linux-android/lib/python3.8/site-packages (from emails) (2.8.1)\n",
      "Requirement already satisfied: chardet in /data/data/ru.iiec.pydroid3/files/aarch64-linux-android/lib/python3.8/site-packages (from emails) (3.0.4)\n",
      "Requirement already satisfied: lxml in /data/data/ru.iiec.pydroid3/files/aarch64-linux-android/lib/python3.8/site-packages (from emails) (4.5.1)\n",
      "Requirement already satisfied: requests in /data/data/ru.iiec.pydroid3/files/aarch64-linux-android/lib/python3.8/site-packages (from emails) (2.25.0)\n",
      "Requirement already satisfied: cssutils in /data/data/ru.iiec.pydroid3/files/aarch64-linux-android/lib/python3.8/site-packages (from emails) (1.0.2)\n",
      "Requirement already satisfied: premailer in /data/data/ru.iiec.pydroid3/files/aarch64-linux-android/lib/python3.8/site-packages (from emails) (3.7.0)\n",
      "Requirement already satisfied: cssselect in /data/data/ru.iiec.pydroid3/files/aarch64-linux-android/lib/python3.8/site-packages (from premailer->emails) (1.1.0)\n",
      "Requirement already satisfied: cachetools in /data/data/ru.iiec.pydroid3/files/aarch64-linux-android/lib/python3.8/site-packages (from premailer->emails) (4.2.0)\n",
      "Requirement already satisfied: six>=1.5 in /data/data/ru.iiec.pydroid3/files/aarch64-linux-android/lib/python3.8/site-packages (from python-dateutil->emails) (1.15.0)\n",
      "Requirement already satisfied: idna<3,>=2.5 in /data/data/ru.iiec.pydroid3/files/aarch64-linux-android/lib/python3.8/site-packages (from requests->emails) (2.10)\n",
      "Requirement already satisfied: certifi>=2017.4.17 in /data/data/ru.iiec.pydroid3/files/aarch64-linux-android/lib/python3.8/site-packages (from requests->emails) (2020.12.5)\n",
      "Requirement already satisfied: urllib3<1.27,>=1.21.1 in /data/data/ru.iiec.pydroid3/files/aarch64-linux-android/lib/python3.8/site-packages (from requests->emails) (1.26.2)\n"
     ]
    }
   ],
   "source": [
    "!pip install emails\n"
   ]
  },
  {
   "cell_type": "code",
   "execution_count": 4,
   "metadata": {},
   "outputs": [],
   "source": [
    "import emails"
   ]
  },
  {
   "cell_type": "code",
   "execution_count": 28,
   "metadata": {},
   "outputs": [],
   "source": [
    "msg = emails.html(html=\"<p> Hello ! <br> Happy Birthday To You\" ,\n",
    "                 subject=\"Wishes\",\n",
    "                 mail_from= ('vijay ,vijay@gmail.com'))\n",
    "                 "
   ]
  },
  {
   "cell_type": "code",
   "execution_count": 41,
   "metadata": {},
   "outputs": [],
   "source": [
    "mail_via=msg.send(to= 'use@gmail.com',\n",
    "                  smtp={'host':'smtp.gmail.com',\n",
    "                        'port':587,\n",
    "                        'user': 'vijay@gmail.com',\n",
    "                        'password':'*******',\n",
    "                        'tls':True})"
   ]
  },
  {
   "cell_type": "code",
   "execution_count": 42,
   "metadata": {},
   "outputs": [
    {
     "data": {
      "text/plain": [
       "250"
      ]
     },
     "execution_count": 42,
     "metadata": {},
     "output_type": "execute_result"
    }
   ],
   "source": [
    "mail_via.status_code"
   ]
  },
  {
   "cell_type": "code",
   "execution_count": null,
   "metadata": {},
   "outputs": [],
   "source": []
  },
  {
   "cell_type": "code",
   "execution_count": null,
   "metadata": {},
   "outputs": [],
   "source": []
  }
 ],
 "metadata": {
  "kernelspec": {
   "display_name": "Python 3",
   "language": "python",
   "name": "python3"
  },
  "language_info": {
   "codemirror_mode": {
    "name": "ipython",
    "version": 3
   },
   "file_extension": ".py",
   "mimetype": "text/x-python",
   "name": "python",
   "nbconvert_exporter": "python",
   "pygments_lexer": "ipython3",
   "version": "3.7.6"
  },
  "toc": {
   "base_numbering": 1,
   "nav_menu": {},
   "number_sections": true,
   "sideBar": true,
   "skip_h1_title": false,
   "title_cell": "Table of Contents",
   "title_sidebar": "Contents",
   "toc_cell": false,
   "toc_position": {},
   "toc_section_display": true,
   "toc_window_display": false
  }
 },
 "nbformat": 4,
 "nbformat_minor": 4
}
