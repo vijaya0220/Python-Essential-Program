{
 "cells": [
  {
   "cell_type": "code",
   "execution_count": 2,
   "metadata": {},
   "outputs": [
    {
     "name": "stdout",
     "output_type": "stream",
     "text": [
      "Collecting PyTube\n",
      "  Downloading pytube-10.0.0-py3-none-any.whl (40 kB)\n",
      "Collecting typing-extensions\n",
      "  Downloading typing_extensions-3.7.4.3-py3-none-any.whl (22 kB)\n",
      "Installing collected packages: typing-extensions, PyTube\n",
      "Successfully installed PyTube-10.0.0 typing-extensions-3.7.4.3\n",
      "Note: you may need to restart the kernel to use updated packages.\n"
     ]
    }
   ],
   "source": [
    "pip install PyTube"
   ]
  },
  {
   "cell_type": "code",
   "execution_count": null,
   "metadata": {},
   "outputs": [],
   "source": [
    "from pytube import YouTube\n",
    "import os\n",
    "from tkinter import *\n",
    "\n",
    "root=Tk()\n",
    "root.geometry('600x200')\n",
    "root.title('Youtube Video Downloader')\n",
    "\n",
    "\n",
    "Label_1=Label(root,text=\"Paste The Youtube Link Here\", font=(\"bold\",20))\n",
    "Label_1.place(x=120,y=20)\n",
    "\n",
    "\n",
    "mylink=StringVar()\n",
    "\n",
    "pastelink=Entry(root, width=60, textvariable=mylink)\n",
    "pastelink.place(x=140, y=80)\n",
    "\n",
    "\n",
    "\n",
    "def downloadVideo():\n",
    "    x=str(mylink.get())\n",
    "    ytvideo=YouTube(x).streams.filter(progressive=True, file_extension='mp4').order_by('resolution').desc().first()\n",
    "    if not os.path.exists('C:\\Python_Assignments'):\n",
    "        os.makedirs('C:\\Python_Assignments')\n",
    "    ytvideo.download('C:\\Python_Assignments') \n",
    "\n",
    "Button(root,text=\"Download Video\", width=20, bg='green',fg=\"white\", command=downloadVideo).place(x=220, y=110)\n",
    "\n",
    "root.mainloop()"
   ]
  },
  {
   "cell_type": "code",
   "execution_count": null,
   "metadata": {},
   "outputs": [],
   "source": []
  }
 ],
 "metadata": {
  "kernelspec": {
   "display_name": "Python 3",
   "language": "python",
   "name": "python3"
  },
  "language_info": {
   "codemirror_mode": {
    "name": "ipython",
    "version": 3
   },
   "file_extension": ".py",
   "mimetype": "text/x-python",
   "name": "python",
   "nbconvert_exporter": "python",
   "pygments_lexer": "ipython3",
   "version": "3.7.6"
  },
  "toc": {
   "base_numbering": 1,
   "nav_menu": {},
   "number_sections": true,
   "sideBar": true,
   "skip_h1_title": false,
   "title_cell": "Table of Contents",
   "title_sidebar": "Contents",
   "toc_cell": false,
   "toc_position": {},
   "toc_section_display": true,
   "toc_window_display": false
  }
 },
 "nbformat": 4,
 "nbformat_minor": 4
}
